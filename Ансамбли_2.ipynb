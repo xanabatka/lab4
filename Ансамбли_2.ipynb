{
  "cells": [
    {
      "cell_type": "markdown",
      "id": "3085ec43-34bb-4afb-9515-517e0489db3e",
      "metadata": {
        "id": "3085ec43-34bb-4afb-9515-517e0489db3e"
      },
      "source": [
        "## Ансамбли и полносвязные нейронные сети\n",
        "В этом ноутбуке вам нужно обучить модели на датасете классификации из предыдущего ноутбука и сравнить результаты. Вам будет предоставлен baseline, на основе которого вы будете доделывать предсказывающие модели. Оценка лабы будет зависеть от ROC-AUC на тестовых данных по следующим критериям:\n",
        "\\\n",
        "AUC - на тестовых данных\n",
        "- $AUC \\leq 0.76$ - 0 баллов\n",
        "- $0.76 < AUC \\leq 0.77$ - 2 балла\n",
        "- $0.77 < AUC \\leq 0.78$ - 4 балла\n",
        "- $0.78 < AUC \\leq 0.79$ - 6 баллов\n",
        "- $0.79 < AUC \\leq 0.80$ - 8 баллов\n",
        "- $AUC > 0.80$ - 10 баллов\n"
      ]
    },
    {
      "cell_type": "code",
      "source": [
        "!pip install optuna"
      ],
      "metadata": {
        "id": "bIhnqzqamfTf",
        "outputId": "a4478f43-2c20-4947-a9a3-a651ac01fd7e",
        "colab": {
          "base_uri": "https://localhost:8080/"
        }
      },
      "id": "bIhnqzqamfTf",
      "execution_count": 1,
      "outputs": [
        {
          "output_type": "stream",
          "name": "stdout",
          "text": [
            "Collecting optuna\n",
            "  Downloading optuna-4.0.0-py3-none-any.whl.metadata (16 kB)\n",
            "Collecting alembic>=1.5.0 (from optuna)\n",
            "  Downloading alembic-1.13.3-py3-none-any.whl.metadata (7.4 kB)\n",
            "Collecting colorlog (from optuna)\n",
            "  Downloading colorlog-6.9.0-py3-none-any.whl.metadata (10 kB)\n",
            "Requirement already satisfied: numpy in /usr/local/lib/python3.10/dist-packages (from optuna) (1.26.4)\n",
            "Requirement already satisfied: packaging>=20.0 in /usr/local/lib/python3.10/dist-packages (from optuna) (24.1)\n",
            "Requirement already satisfied: sqlalchemy>=1.3.0 in /usr/local/lib/python3.10/dist-packages (from optuna) (2.0.36)\n",
            "Requirement already satisfied: tqdm in /usr/local/lib/python3.10/dist-packages (from optuna) (4.66.5)\n",
            "Requirement already satisfied: PyYAML in /usr/local/lib/python3.10/dist-packages (from optuna) (6.0.2)\n",
            "Collecting Mako (from alembic>=1.5.0->optuna)\n",
            "  Downloading Mako-1.3.6-py3-none-any.whl.metadata (2.9 kB)\n",
            "Requirement already satisfied: typing-extensions>=4 in /usr/local/lib/python3.10/dist-packages (from alembic>=1.5.0->optuna) (4.12.2)\n",
            "Requirement already satisfied: greenlet!=0.4.17 in /usr/local/lib/python3.10/dist-packages (from sqlalchemy>=1.3.0->optuna) (3.1.1)\n",
            "Requirement already satisfied: MarkupSafe>=0.9.2 in /usr/local/lib/python3.10/dist-packages (from Mako->alembic>=1.5.0->optuna) (3.0.2)\n",
            "Downloading optuna-4.0.0-py3-none-any.whl (362 kB)\n",
            "\u001b[2K   \u001b[90m━━━━━━━━━━━━━━━━━━━━━━━━━━━━━━━━━━━━━━━━\u001b[0m \u001b[32m362.8/362.8 kB\u001b[0m \u001b[31m8.1 MB/s\u001b[0m eta \u001b[36m0:00:00\u001b[0m\n",
            "\u001b[?25hDownloading alembic-1.13.3-py3-none-any.whl (233 kB)\n",
            "\u001b[2K   \u001b[90m━━━━━━━━━━━━━━━━━━━━━━━━━━━━━━━━━━━━━━━━\u001b[0m \u001b[32m233.2/233.2 kB\u001b[0m \u001b[31m8.2 MB/s\u001b[0m eta \u001b[36m0:00:00\u001b[0m\n",
            "\u001b[?25hDownloading colorlog-6.9.0-py3-none-any.whl (11 kB)\n",
            "Downloading Mako-1.3.6-py3-none-any.whl (78 kB)\n",
            "\u001b[2K   \u001b[90m━━━━━━━━━━━━━━━━━━━━━━━━━━━━━━━━━━━━━━━━\u001b[0m \u001b[32m78.6/78.6 kB\u001b[0m \u001b[31m4.0 MB/s\u001b[0m eta \u001b[36m0:00:00\u001b[0m\n",
            "\u001b[?25hInstalling collected packages: Mako, colorlog, alembic, optuna\n",
            "Successfully installed Mako-1.3.6 alembic-1.13.3 colorlog-6.9.0 optuna-4.0.0\n"
          ]
        }
      ]
    },
    {
      "cell_type": "code",
      "execution_count": 2,
      "id": "ec07e3a2-480a-4350-868e-02679ff2aada",
      "metadata": {
        "tags": [],
        "id": "ec07e3a2-480a-4350-868e-02679ff2aada"
      },
      "outputs": [],
      "source": [
        "from sklearn.ensemble import RandomForestClassifier, GradientBoostingClassifier\n",
        "from sklearn.neural_network import MLPClassifier\n",
        "\n",
        "from sklearn.metrics import roc_auc_score, precision_score, recall_score, roc_curve, accuracy_score\n",
        "\n",
        "from sklearn.model_selection import train_test_split\n",
        "\n",
        "import matplotlib.pyplot as plt\n",
        "import pandas as pd\n",
        "import numpy as np"
      ]
    },
    {
      "cell_type": "code",
      "execution_count": 3,
      "id": "563ad31b-5c83-4366-819a-34dad4edecdc",
      "metadata": {
        "tags": [],
        "collapsed": true,
        "id": "563ad31b-5c83-4366-819a-34dad4edecdc"
      },
      "outputs": [],
      "source": [
        "data = pd.read_csv('german.csv', sep=';')\n",
        "data = data.drop('Foreign_Worker', axis=1)\n",
        "\n",
        "X = data.iloc[:, 1:]\n",
        "y = data.iloc[:, 0]\n",
        "\n",
        "missing_values_count = X.isnull().sum()\n",
        "X_cleaned = X.dropna() if missing_values_count.sum() < len(X) * 0.05 else X.fillna(X.median())\n",
        "\n",
        "Q1 = X_cleaned.quantile(0.25)\n",
        "Q3 = X_cleaned.quantile(0.75)\n",
        "IQR = Q3 - Q1\n",
        "\n",
        "mask = ~((X_cleaned < (Q1 - 1.5 * IQR)) | (X_cleaned > (Q3 + 1.5 * IQR))).any(axis=1)\n",
        "X_no_outliers = X_cleaned[mask]\n",
        "y_no_outliers = y[mask]\n",
        "\n",
        "X_train, X_test, y_train, y_test = train_test_split(X_no_outliers, y_no_outliers, test_size=0.2, random_state=42)"
      ]
    },
    {
      "cell_type": "code",
      "execution_count": null,
      "id": "f93737ec-e5eb-4d72-8beb-5dba4d4c581f",
      "metadata": {
        "tags": [],
        "collapsed": true,
        "colab": {
          "base_uri": "https://localhost:8080/",
          "height": 472
        },
        "id": "f93737ec-e5eb-4d72-8beb-5dba4d4c581f",
        "outputId": "cfc4d5e5-d50b-43da-9f2d-0d7c06d68a31"
      },
      "outputs": [
        {
          "output_type": "display_data",
          "data": {
            "text/plain": [
              "<Figure size 640x480 with 1 Axes>"
            ],
            "image/png": "[encoded data removed]"
          },
          "metadata": {}
        }
      ],
      "source": [
        "plt.hist(y_train, bins=2, edgecolor='k')\n",
        "plt.xticks([0, 1])\n",
        "plt.xlabel('Class (0: Non-Creditworthy, 1: Creditworthy)')\n",
        "plt.ylabel('Count')\n",
        "plt.title('Distribution of Classes in Training Data')\n",
        "plt.show()"
      ]
    },
    {
      "cell_type": "code",
      "source": [
        "#масштабируем данные\n",
        "from sklearn.preprocessing import StandardScaler\n",
        "\n",
        "scaler = StandardScaler()\n",
        "X_train_scaled = scaler.fit_transform(X_train)\n",
        "X_test_scaled = scaler.transform(X_test)\n",
        "import optuna"
      ],
      "metadata": {
        "id": "rKH0qkZ1xwhb"
      },
      "id": "rKH0qkZ1xwhb",
      "execution_count": 6,
      "outputs": []
    },
    {
      "cell_type": "code",
      "source": [
        "#оптимизируем гиперпараметры\n",
        "import optuna\n",
        "\n",
        "\n",
        "def objective_gbc(trial):\n",
        "    n_estimators = trial.suggest_int('n_estimators', 1, 200)\n",
        "    learning_rate = trial.suggest_float('learning_rate', 1e-4, 10.0, log=True)\n",
        "    max_depth = trial.suggest_int('max_depth', 1, 500)\n",
        "    min_samples_split = trial.suggest_int('min_samples_split', 2, 200)\n",
        "    min_samples_leaf = trial.suggest_int('min_samples_leaf', 1, 100)\n",
        "\n",
        "    model = GradientBoostingClassifier(max_depth=max_depth,\n",
        "                                   min_samples_split=min_samples_split,\n",
        "                                   min_samples_leaf=min_samples_leaf,\n",
        "                                   n_estimators = n_estimators,\n",
        "                                    learning_rate = learning_rate)\n",
        "    model.fit(X_train_scaled, y_train)\n",
        "\n",
        "    y_pred = model.predict(X_test_scaled)\n",
        "    roc_auc = roc_auc_score(y_test, y_pred)\n",
        "    return roc_auc\n",
        "\n",
        "\n",
        "def objective_mlp(trial):\n",
        "    hidden_layer_sizes = trial.suggest_int('hidden_layer_sizes ', 2, 1000)\n",
        "    max_iter = trial.suggest_int('max_iter', 100, 1000)\n",
        "\n",
        "    model = MLPClassifier(\n",
        "        hidden_layer_sizes=hidden_layer_sizes,\n",
        "        max_iter=max_iter\n",
        "    )\n",
        "    model.fit(X_train_scaled, y_train)\n",
        "\n",
        "    y_pred = model.predict(X_test_scaled)\n",
        "    roc_auc = roc_auc_score(y_test, y_pred)\n",
        "    return roc_auc\n",
        "\n",
        "\n",
        "study_gbc = optuna.create_study(direction='maximize')\n",
        "study_gbc.optimize(objective_gbc, n_trials=50)\n",
        "\n",
        "print(\"Best ROC-AUC for GradientBoostingClassifier: \", study_gbc.best_value)\n",
        "print(\"Best hyperparameters for GradientBoostingClassifier: \", study_gbc.best_params)\n",
        "\n",
        "\n",
        "study_mlp = optuna.create_study(direction='maximize')\n",
        "study_mlp.optimize(objective_mlp, n_trials=25)\n",
        "\n",
        "print(\"Best ROC-AUC for MLPClassifier: \", study_mlp.best_value)\n",
        "print(\"Best hyperparameters for MLPClassifier: \", study_mlp.best_params)"
      ],
      "metadata": {
        "id": "eNNbmNuLlwKf",
        "colab": {
          "base_uri": "https://localhost:8080/"
        },
        "collapsed": true,
        "outputId": "8004741d-6d75-4782-b368-ae8d38502aa9"
      },
      "id": "eNNbmNuLlwKf",
      "execution_count": null,
      "outputs": [
        {
          "output_type": "stream",
          "name": "stderr",
          "text": [
            "[I 2024-10-30 15:16:01,898] A new study created in memory with name: no-name-fd6557aa-e0fc-48ff-a8c2-c5d4f7980076\n",
            "[I 2024-10-30 15:16:01,925] Trial 0 finished with value: 0.5 and parameters: {'n_estimators': 15, 'learning_rate': 0.007054882883891509, 'max_depth': 245, 'min_samples_split': 116, 'min_samples_leaf': 36}. Best is trial 0 with value: 0.5.\n",
            "[I 2024-10-30 15:16:01,986] Trial 1 finished with value: 0.5 and parameters: {'n_estimators': 63, 'learning_rate': 0.00016837036641578125, 'max_depth': 204, 'min_samples_split': 83, 'min_samples_leaf': 66}. Best is trial 0 with value: 0.5.\n",
            "[I 2024-10-30 15:16:02,139] Trial 2 finished with value: 0.5 and parameters: {'n_estimators': 144, 'learning_rate': 0.009107931945404008, 'max_depth': 403, 'min_samples_split': 152, 'min_samples_leaf': 21}. Best is trial 0 with value: 0.5.\n",
            "[I 2024-10-30 15:16:02,290] Trial 3 finished with value: 0.4888888888888889 and parameters: {'n_estimators': 153, 'learning_rate': 0.04465971325177792, 'max_depth': 327, 'min_samples_split': 186, 'min_samples_leaf': 90}. Best is trial 0 with value: 0.5.\n",
            "[I 2024-10-30 15:16:02,467] Trial 4 finished with value: 0.5 and parameters: {'n_estimators': 136, 'learning_rate': 0.0003279641497540054, 'max_depth': 355, 'min_samples_split': 47, 'min_samples_leaf': 19}. Best is trial 0 with value: 0.5.\n",
            "[I 2024-10-30 15:16:02,509] Trial 5 finished with value: 0.5 and parameters: {'n_estimators': 35, 'learning_rate': 0.00020463349501325325, 'max_depth': 489, 'min_samples_split': 60, 'min_samples_leaf': 54}. Best is trial 0 with value: 0.5.\n",
            "[I 2024-10-30 15:16:02,523] Trial 6 finished with value: 0.5 and parameters: {'n_estimators': 4, 'learning_rate': 0.24295337823905547, 'max_depth': 257, 'min_samples_split': 169, 'min_samples_leaf': 54}. Best is trial 0 with value: 0.5.\n",
            "[I 2024-10-30 15:16:02,582] Trial 7 finished with value: 0.5 and parameters: {'n_estimators': 58, 'learning_rate': 0.00010845846815848952, 'max_depth': 268, 'min_samples_split': 182, 'min_samples_leaf': 78}. Best is trial 0 with value: 0.5.\n",
            "[I 2024-10-30 15:16:02,710] Trial 8 finished with value: 0.6095238095238096 and parameters: {'n_estimators': 58, 'learning_rate': 0.035306104238660825, 'max_depth': 447, 'min_samples_split': 60, 'min_samples_leaf': 4}. Best is trial 8 with value: 0.6095238095238096.\n",
            "[I 2024-10-30 15:16:02,858] Trial 9 finished with value: 0.5714285714285714 and parameters: {'n_estimators': 79, 'learning_rate': 0.018033965552713603, 'max_depth': 498, 'min_samples_split': 109, 'min_samples_leaf': 27}. Best is trial 8 with value: 0.6095238095238096.\n",
            "[I 2024-10-30 15:16:03,426] Trial 10 finished with value: 0.7412698412698412 and parameters: {'n_estimators': 197, 'learning_rate': 1.166761486477877, 'max_depth': 67, 'min_samples_split': 2, 'min_samples_leaf': 3}. Best is trial 10 with value: 0.7412698412698412.\n",
            "[I 2024-10-30 15:16:05,889] Trial 11 finished with value: 0.5698412698412698 and parameters: {'n_estimators': 199, 'learning_rate': 7.084398982830626, 'max_depth': 32, 'min_samples_split': 8, 'min_samples_leaf': 5}. Best is trial 10 with value: 0.7412698412698412.\n",
            "[I 2024-10-30 15:16:06,637] Trial 12 finished with value: 0.707936507936508 and parameters: {'n_estimators': 110, 'learning_rate': 2.124270185942416, 'max_depth': 78, 'min_samples_split': 4, 'min_samples_leaf': 4}. Best is trial 10 with value: 0.7412698412698412.\n",
            "[I 2024-10-30 15:16:07,818] Trial 13 finished with value: 0.5984126984126984 and parameters: {'n_estimators': 190, 'learning_rate': 6.930911785548378, 'max_depth': 50, 'min_samples_split': 4, 'min_samples_leaf': 1}. Best is trial 10 with value: 0.7412698412698412.\n",
            "[I 2024-10-30 15:16:08,152] Trial 14 finished with value: 0.8015873015873016 and parameters: {'n_estimators': 118, 'learning_rate': 0.9749353145582721, 'max_depth': 126, 'min_samples_split': 26, 'min_samples_leaf': 39}. Best is trial 14 with value: 0.8015873015873016.\n",
            "[I 2024-10-30 15:16:08,512] Trial 15 finished with value: 0.8015873015873016 and parameters: {'n_estimators': 171, 'learning_rate': 0.6068194578710788, 'max_depth': 130, 'min_samples_split': 34, 'min_samples_leaf': 39}. Best is trial 14 with value: 0.8015873015873016.\n",
            "[I 2024-10-30 15:16:09,020] Trial 16 finished with value: 0.7301587301587301 and parameters: {'n_estimators': 168, 'learning_rate': 0.28532471726061287, 'max_depth': 146, 'min_samples_split': 33, 'min_samples_leaf': 41}. Best is trial 14 with value: 0.8015873015873016.\n",
            "[I 2024-10-30 15:16:09,311] Trial 17 finished with value: 0.7634920634920634 and parameters: {'n_estimators': 114, 'learning_rate': 0.30703119967601505, 'max_depth': 148, 'min_samples_split': 84, 'min_samples_leaf': 42}. Best is trial 14 with value: 0.8015873015873016.\n",
            "[I 2024-10-30 15:16:09,687] Trial 18 finished with value: 0.6698412698412698 and parameters: {'n_estimators': 172, 'learning_rate': 1.3331413172703535, 'max_depth': 145, 'min_samples_split': 29, 'min_samples_leaf': 65}. Best is trial 14 with value: 0.8015873015873016.\n",
            "[I 2024-10-30 15:16:09,910] Trial 19 finished with value: 0.680952380952381 and parameters: {'n_estimators': 124, 'learning_rate': 0.09691058713902642, 'max_depth': 1, 'min_samples_split': 30, 'min_samples_leaf': 28}. Best is trial 14 with value: 0.8015873015873016.\n",
            "[I 2024-10-30 15:16:10,106] Trial 20 finished with value: 0.5 and parameters: {'n_estimators': 97, 'learning_rate': 0.001693957021472453, 'max_depth': 123, 'min_samples_split': 132, 'min_samples_leaf': 61}. Best is trial 14 with value: 0.8015873015873016.\n",
            "[I 2024-10-30 15:16:10,345] Trial 21 finished with value: 0.7412698412698412 and parameters: {'n_estimators': 108, 'learning_rate': 0.36970084956597893, 'max_depth': 181, 'min_samples_split': 88, 'min_samples_leaf': 38}. Best is trial 14 with value: 0.8015873015873016.\n",
            "[I 2024-10-30 15:16:10,589] Trial 22 finished with value: 0.8126984126984127 and parameters: {'n_estimators': 85, 'learning_rate': 0.6122865516772064, 'max_depth': 104, 'min_samples_split': 77, 'min_samples_leaf': 44}. Best is trial 22 with value: 0.8126984126984127.\n",
            "[I 2024-10-30 15:16:10,823] Trial 23 finished with value: 0.5 and parameters: {'n_estimators': 83, 'learning_rate': 2.1627290210662014, 'max_depth': 99, 'min_samples_split': 68, 'min_samples_leaf': 48}. Best is trial 22 with value: 0.8126984126984127.\n",
            "[I 2024-10-30 15:16:11,275] Trial 24 finished with value: 0.7301587301587301 and parameters: {'n_estimators': 169, 'learning_rate': 0.12637966980503537, 'max_depth': 199, 'min_samples_split': 45, 'min_samples_leaf': 30}. Best is trial 22 with value: 0.8126984126984127.\n",
            "[I 2024-10-30 15:16:11,650] Trial 25 finished with value: 0.8841269841269841 and parameters: {'n_estimators': 88, 'learning_rate': 0.7408365049694723, 'max_depth': 104, 'min_samples_split': 20, 'min_samples_leaf': 48}. Best is trial 25 with value: 0.8841269841269841.\n",
            "[I 2024-10-30 15:16:11,830] Trial 26 finished with value: 0.5 and parameters: {'n_estimators': 84, 'learning_rate': 4.8140344833561475, 'max_depth': 1, 'min_samples_split': 18, 'min_samples_leaf': 50}. Best is trial 25 with value: 0.8841269841269841.\n",
            "[I 2024-10-30 15:16:11,964] Trial 27 finished with value: 0.680952380952381 and parameters: {'n_estimators': 41, 'learning_rate': 0.7677003192349557, 'max_depth': 110, 'min_samples_split': 69, 'min_samples_leaf': 75}. Best is trial 25 with value: 0.8841269841269841.\n",
            "[I 2024-10-30 15:16:12,182] Trial 28 finished with value: 0.5 and parameters: {'n_estimators': 98, 'learning_rate': 3.263896368983553, 'max_depth': 181, 'min_samples_split': 45, 'min_samples_leaf': 59}. Best is trial 25 with value: 0.8841269841269841.\n",
            "[I 2024-10-30 15:16:12,454] Trial 29 finished with value: 0.5 and parameters: {'n_estimators': 124, 'learning_rate': 0.08371996922491887, 'max_depth': 294, 'min_samples_split': 125, 'min_samples_leaf': 100}. Best is trial 25 with value: 0.8841269841269841.\n",
            "[I 2024-10-30 15:16:12,650] Trial 30 finished with value: 0.32222222222222224 and parameters: {'n_estimators': 70, 'learning_rate': 9.64030344235496, 'max_depth': 227, 'min_samples_split': 102, 'min_samples_leaf': 45}. Best is trial 25 with value: 0.8841269841269841.\n",
            "[I 2024-10-30 15:16:12,803] Trial 31 finished with value: 0.8238095238095238 and parameters: {'n_estimators': 41, 'learning_rate': 0.6599495589276865, 'max_depth': 88, 'min_samples_split': 19, 'min_samples_leaf': 33}. Best is trial 25 with value: 0.8841269841269841.\n",
            "[I 2024-10-30 15:16:12,923] Trial 32 finished with value: 0.7523809523809523 and parameters: {'n_estimators': 30, 'learning_rate': 0.5979313048887662, 'max_depth': 89, 'min_samples_split': 17, 'min_samples_leaf': 32}. Best is trial 25 with value: 0.8841269841269841.\n",
            "[I 2024-10-30 15:16:13,112] Trial 33 finished with value: 0.7634920634920634 and parameters: {'n_estimators': 47, 'learning_rate': 0.17705210309547195, 'max_depth': 43, 'min_samples_split': 19, 'min_samples_leaf': 23}. Best is trial 25 with value: 0.8841269841269841.\n",
            "[I 2024-10-30 15:16:13,239] Trial 34 finished with value: 0.9063492063492065 and parameters: {'n_estimators': 20, 'learning_rate': 1.3433323289640722, 'max_depth': 172, 'min_samples_split': 49, 'min_samples_leaf': 17}. Best is trial 34 with value: 0.9063492063492065.\n",
            "[I 2024-10-30 15:16:13,353] Trial 35 finished with value: 0.7333333333333334 and parameters: {'n_estimators': 18, 'learning_rate': 2.3947239306421646, 'max_depth': 171, 'min_samples_split': 54, 'min_samples_leaf': 14}. Best is trial 34 with value: 0.9063492063492065.\n",
            "[I 2024-10-30 15:16:13,468] Trial 36 finished with value: 0.5 and parameters: {'n_estimators': 21, 'learning_rate': 0.012074743153210724, 'max_depth': 217, 'min_samples_split': 74, 'min_samples_leaf': 13}. Best is trial 34 with value: 0.9063492063492065.\n",
            "[I 2024-10-30 15:16:13,563] Trial 37 finished with value: 0.5 and parameters: {'n_estimators': 3, 'learning_rate': 0.0035613257116386106, 'max_depth': 87, 'min_samples_split': 46, 'min_samples_leaf': 33}. Best is trial 34 with value: 0.9063492063492065.\n",
            "[I 2024-10-30 15:16:13,797] Trial 38 finished with value: 0.6317460317460317 and parameters: {'n_estimators': 48, 'learning_rate': 0.054939073138062705, 'max_depth': 162, 'min_samples_split': 91, 'min_samples_leaf': 17}. Best is trial 34 with value: 0.9063492063492065.\n",
            "[I 2024-10-30 15:16:14,158] Trial 39 finished with value: 0.8238095238095238 and parameters: {'n_estimators': 68, 'learning_rate': 0.4996915803452036, 'max_depth': 29, 'min_samples_split': 57, 'min_samples_leaf': 23}. Best is trial 34 with value: 0.9063492063492065.\n",
            "[I 2024-10-30 15:16:14,624] Trial 40 finished with value: 0.5 and parameters: {'n_estimators': 68, 'learning_rate': 0.000676511483112349, 'max_depth': 25, 'min_samples_split': 57, 'min_samples_leaf': 11}. Best is trial 34 with value: 0.9063492063492065.\n",
            "[I 2024-10-30 15:16:14,982] Trial 41 finished with value: 0.7412698412698412 and parameters: {'n_estimators': 29, 'learning_rate': 0.44098316338921656, 'max_depth': 62, 'min_samples_split': 79, 'min_samples_leaf': 22}. Best is trial 34 with value: 0.9063492063492065.\n",
            "[I 2024-10-30 15:16:15,293] Trial 42 finished with value: 0.7904761904761906 and parameters: {'n_estimators': 92, 'learning_rate': 1.3404342854953661, 'max_depth': 111, 'min_samples_split': 39, 'min_samples_leaf': 24}. Best is trial 34 with value: 0.9063492063492065.\n",
            "[I 2024-10-30 15:16:15,397] Trial 43 finished with value: 0.7634920634920634 and parameters: {'n_estimators': 56, 'learning_rate': 0.19777998259923335, 'max_depth': 28, 'min_samples_split': 64, 'min_samples_leaf': 35}. Best is trial 34 with value: 0.9063492063492065.\n",
            "[I 2024-10-30 15:16:15,519] Trial 44 finished with value: 0.5 and parameters: {'n_estimators': 74, 'learning_rate': 3.801801032663608, 'max_depth': 72, 'min_samples_split': 51, 'min_samples_leaf': 45}. Best is trial 34 with value: 0.9063492063492065.\n",
            "[I 2024-10-30 15:16:15,625] Trial 45 finished with value: 0.7634920634920634 and parameters: {'n_estimators': 60, 'learning_rate': 1.533037486518274, 'max_depth': 53, 'min_samples_split': 13, 'min_samples_leaf': 54}. Best is trial 34 with value: 0.9063492063492065.\n",
            "[I 2024-10-30 15:16:15,684] Trial 46 finished with value: 0.7523809523809523 and parameters: {'n_estimators': 9, 'learning_rate': 0.5183133597518947, 'max_depth': 353, 'min_samples_split': 22, 'min_samples_leaf': 18}. Best is trial 34 with value: 0.9063492063492065.\n",
            "[I 2024-10-30 15:16:15,789] Trial 47 finished with value: 0.5 and parameters: {'n_estimators': 39, 'learning_rate': 0.02668291843994016, 'max_depth': 96, 'min_samples_split': 37, 'min_samples_leaf': 27}. Best is trial 34 with value: 0.9063492063492065.\n",
            "[I 2024-10-30 15:16:15,927] Trial 48 finished with value: 0.7746031746031745 and parameters: {'n_estimators': 87, 'learning_rate': 0.159356946724319, 'max_depth': 242, 'min_samples_split': 98, 'min_samples_leaf': 8}. Best is trial 34 with value: 0.9063492063492065.\n",
            "[I 2024-10-30 15:16:16,021] Trial 49 finished with value: 0.7523809523809523 and parameters: {'n_estimators': 51, 'learning_rate': 0.9371639072685676, 'max_depth': 277, 'min_samples_split': 76, 'min_samples_leaf': 54}. Best is trial 34 with value: 0.9063492063492065.\n",
            "[I 2024-10-30 15:16:16,027] A new study created in memory with name: no-name-36335a93-d6a6-40d4-bb18-81c9c0718bdf\n"
          ]
        },
        {
          "output_type": "stream",
          "name": "stdout",
          "text": [
            "Best ROC-AUC for GradientBoostingClassifier:  0.9063492063492065\n",
            "Best hyperparameters for GradientBoostingClassifier:  {'n_estimators': 20, 'learning_rate': 1.3433323289640722, 'max_depth': 172, 'min_samples_split': 49, 'min_samples_leaf': 17}\n"
          ]
        },
        {
          "output_type": "stream",
          "name": "stderr",
          "text": [
            "/usr/local/lib/python3.10/dist-packages/sklearn/neural_network/_multilayer_perceptron.py:690: ConvergenceWarning: Stochastic Optimizer: Maximum iterations (179) reached and the optimization hasn't converged yet.\n",
            "  warnings.warn(\n",
            "[I 2024-10-30 15:16:16,751] Trial 0 finished with value: 0.7031746031746031 and parameters: {'hidden_layer_sizes ': 417, 'max_iter': 179}. Best is trial 0 with value: 0.7031746031746031.\n",
            "[I 2024-10-30 15:16:20,758] Trial 1 finished with value: 0.692063492063492 and parameters: {'hidden_layer_sizes ': 705, 'max_iter': 398}. Best is trial 0 with value: 0.7031746031746031.\n",
            "[I 2024-10-30 15:16:23,184] Trial 2 finished with value: 0.8841269841269841 and parameters: {'hidden_layer_sizes ': 430, 'max_iter': 937}. Best is trial 2 with value: 0.8841269841269841.\n",
            "[I 2024-10-30 15:16:25,293] Trial 3 finished with value: 0.8238095238095238 and parameters: {'hidden_layer_sizes ': 803, 'max_iter': 401}. Best is trial 2 with value: 0.8841269841269841.\n",
            "[I 2024-10-30 15:16:27,849] Trial 4 finished with value: 0.8238095238095238 and parameters: {'hidden_layer_sizes ': 617, 'max_iter': 670}. Best is trial 2 with value: 0.8841269841269841.\n",
            "[I 2024-10-30 15:16:29,536] Trial 5 finished with value: 0.7746031746031745 and parameters: {'hidden_layer_sizes ': 676, 'max_iter': 725}. Best is trial 2 with value: 0.8841269841269841.\n",
            "[I 2024-10-30 15:16:30,521] Trial 6 finished with value: 0.7523809523809523 and parameters: {'hidden_layer_sizes ': 420, 'max_iter': 941}. Best is trial 2 with value: 0.8841269841269841.\n",
            "[I 2024-10-30 15:16:33,104] Trial 7 finished with value: 0.834920634920635 and parameters: {'hidden_layer_sizes ': 592, 'max_iter': 869}. Best is trial 2 with value: 0.8841269841269841.\n",
            "[I 2024-10-30 15:16:35,555] Trial 8 finished with value: 0.7031746031746031 and parameters: {'hidden_layer_sizes ': 444, 'max_iter': 591}. Best is trial 2 with value: 0.8841269841269841.\n",
            "[I 2024-10-30 15:16:37,368] Trial 9 finished with value: 0.7523809523809523 and parameters: {'hidden_layer_sizes ': 842, 'max_iter': 542}. Best is trial 2 with value: 0.8841269841269841.\n",
            "[I 2024-10-30 15:16:38,331] Trial 10 finished with value: 0.692063492063492 and parameters: {'hidden_layer_sizes ': 116, 'max_iter': 974}. Best is trial 2 with value: 0.8841269841269841.\n",
            "[I 2024-10-30 15:16:40,108] Trial 11 finished with value: 0.8015873015873016 and parameters: {'hidden_layer_sizes ': 191, 'max_iter': 847}. Best is trial 2 with value: 0.8841269841269841.\n",
            "[I 2024-10-30 15:16:41,781] Trial 12 finished with value: 0.7634920634920634 and parameters: {'hidden_layer_sizes ': 275, 'max_iter': 850}. Best is trial 2 with value: 0.8841269841269841.\n",
            "[I 2024-10-30 15:16:44,792] Trial 13 finished with value: 0.7634920634920634 and parameters: {'hidden_layer_sizes ': 995, 'max_iter': 804}. Best is trial 2 with value: 0.8841269841269841.\n",
            "[I 2024-10-30 15:16:47,986] Trial 14 finished with value: 0.7634920634920634 and parameters: {'hidden_layer_sizes ': 553, 'max_iter': 988}. Best is trial 2 with value: 0.8841269841269841.\n",
            "[I 2024-10-30 15:16:50,866] Trial 15 finished with value: 0.7634920634920634 and parameters: {'hidden_layer_sizes ': 315, 'max_iter': 748}. Best is trial 2 with value: 0.8841269841269841.\n",
            "/usr/local/lib/python3.10/dist-packages/sklearn/neural_network/_multilayer_perceptron.py:690: ConvergenceWarning: Stochastic Optimizer: Maximum iterations (900) reached and the optimization hasn't converged yet.\n",
            "  warnings.warn(\n",
            "[I 2024-10-30 15:16:52,336] Trial 16 finished with value: 0.692063492063492 and parameters: {'hidden_layer_sizes ': 54, 'max_iter': 900}. Best is trial 2 with value: 0.8841269841269841.\n",
            "/usr/local/lib/python3.10/dist-packages/sklearn/neural_network/_multilayer_perceptron.py:690: ConvergenceWarning: Stochastic Optimizer: Maximum iterations (114) reached and the optimization hasn't converged yet.\n",
            "  warnings.warn(\n",
            "[I 2024-10-30 15:16:52,925] Trial 17 finished with value: 0.7031746031746031 and parameters: {'hidden_layer_sizes ': 535, 'max_iter': 114}. Best is trial 2 with value: 0.8841269841269841.\n",
            "[I 2024-10-30 15:16:54,706] Trial 18 finished with value: 0.7523809523809523 and parameters: {'hidden_layer_sizes ': 315, 'max_iter': 615}. Best is trial 2 with value: 0.8841269841269841.\n",
            "[I 2024-10-30 15:16:55,467] Trial 19 finished with value: 0.7142857142857143 and parameters: {'hidden_layer_sizes ': 791, 'max_iter': 475}. Best is trial 2 with value: 0.8841269841269841.\n",
            "/usr/local/lib/python3.10/dist-packages/sklearn/neural_network/_multilayer_perceptron.py:690: ConvergenceWarning: Stochastic Optimizer: Maximum iterations (268) reached and the optimization hasn't converged yet.\n",
            "  warnings.warn(\n",
            "[I 2024-10-30 15:16:56,727] Trial 20 finished with value: 0.6698412698412698 and parameters: {'hidden_layer_sizes ': 495, 'max_iter': 268}. Best is trial 2 with value: 0.8841269841269841.\n",
            "/usr/local/lib/python3.10/dist-packages/sklearn/neural_network/_multilayer_perceptron.py:690: ConvergenceWarning: Stochastic Optimizer: Maximum iterations (363) reached and the optimization hasn't converged yet.\n",
            "  warnings.warn(\n",
            "[I 2024-10-30 15:16:59,346] Trial 21 finished with value: 0.7412698412698412 and parameters: {'hidden_layer_sizes ': 850, 'max_iter': 363}. Best is trial 2 with value: 0.8841269841269841.\n",
            "/usr/local/lib/python3.10/dist-packages/sklearn/neural_network/_multilayer_perceptron.py:690: ConvergenceWarning: Stochastic Optimizer: Maximum iterations (470) reached and the optimization hasn't converged yet.\n",
            "  warnings.warn(\n",
            "[I 2024-10-30 15:17:06,901] Trial 22 finished with value: 0.8238095238095238 and parameters: {'hidden_layer_sizes ': 989, 'max_iter': 470}. Best is trial 2 with value: 0.8841269841269841.\n",
            "[I 2024-10-30 15:17:10,397] Trial 23 finished with value: 0.680952380952381 and parameters: {'hidden_layer_sizes ': 722, 'max_iter': 309}. Best is trial 2 with value: 0.8841269841269841.\n",
            "[I 2024-10-30 15:17:18,919] Trial 24 finished with value: 0.7634920634920634 and parameters: {'hidden_layer_sizes ': 620, 'max_iter': 739}. Best is trial 2 with value: 0.8841269841269841.\n"
          ]
        },
        {
          "output_type": "stream",
          "name": "stdout",
          "text": [
            "Best ROC-AUC for MLPClassifier:  0.8841269841269841\n",
            "Best hyperparameters for MLPClassifier:  {'hidden_layer_sizes ': 430, 'max_iter': 937}\n"
          ]
        }
      ]
    },
    {
      "cell_type": "code",
      "source": [
        "def objective_rf(trial):\n",
        "    n_estimators = trial.suggest_int(\"n_estimators\", 50, 200)\n",
        "    max_depth = trial.suggest_int(\"max_depth\", 2, 20)\n",
        "    min_samples_split = trial.suggest_int(\"min_samples_split\", 2, 10)\n",
        "    min_samples_leaf = trial.suggest_int(\"min_samples_leaf\", 1, 5)\n",
        "\n",
        "    model = RandomForestClassifier(\n",
        "        n_estimators=n_estimators,\n",
        "        max_depth=max_depth,\n",
        "        min_samples_split=min_samples_split,\n",
        "        min_samples_leaf=min_samples_leaf,\n",
        "        random_state=42\n",
        "    )\n",
        "    model.fit(X_train, y_train)\n",
        "\n",
        "    y_pred = model.predict(X_test)\n",
        "    roc_auc = roc_auc_score(y_test, y_pred)\n",
        "    return roc_auc\n",
        "\n",
        "study_rf = optuna.create_study(direction='maximize')\n",
        "study_rf.optimize(objective_rf, n_trials=50)\n",
        "\n",
        "print(\"Best ROC-AUC for RandomForestClassifier: \", study_rf.best_value)\n",
        "print(\"Best hyperparameters for RandomForestClassifier: \", study_rf.best_params)"
      ],
      "metadata": {
        "colab": {
          "base_uri": "https://localhost:8080/"
        },
        "id": "yJBK7MFr_xJx",
        "outputId": "3a9d11b0-5ffd-449f-9975-3b18d5476a3a"
      },
      "id": "yJBK7MFr_xJx",
      "execution_count": 115,
      "outputs": [
        {
          "output_type": "stream",
          "name": "stderr",
          "text": [
            "[I 2024-10-30 18:02:58,270] A new study created in memory with name: no-name-f33b4254-f3bc-4551-815f-6d49d017ead9\n",
            "[I 2024-10-30 18:02:58,576] Trial 0 finished with value: 0.7031746031746031 and parameters: {'n_estimators': 183, 'max_depth': 19, 'min_samples_split': 10, 'min_samples_leaf': 4}. Best is trial 0 with value: 0.7031746031746031.\n",
            "[I 2024-10-30 18:02:58,746] Trial 1 finished with value: 0.6428571428571428 and parameters: {'n_estimators': 111, 'max_depth': 14, 'min_samples_split': 6, 'min_samples_leaf': 5}. Best is trial 0 with value: 0.7031746031746031.\n",
            "[I 2024-10-30 18:02:59,040] Trial 2 finished with value: 0.7031746031746031 and parameters: {'n_estimators': 183, 'max_depth': 11, 'min_samples_split': 6, 'min_samples_leaf': 3}. Best is trial 0 with value: 0.7031746031746031.\n",
            "[I 2024-10-30 18:02:59,364] Trial 3 finished with value: 0.6317460317460317 and parameters: {'n_estimators': 197, 'max_depth': 6, 'min_samples_split': 5, 'min_samples_leaf': 2}. Best is trial 0 with value: 0.7031746031746031.\n",
            "[I 2024-10-30 18:02:59,502] Trial 4 finished with value: 0.6428571428571428 and parameters: {'n_estimators': 75, 'max_depth': 3, 'min_samples_split': 7, 'min_samples_leaf': 2}. Best is trial 0 with value: 0.7031746031746031.\n",
            "[I 2024-10-30 18:02:59,801] Trial 5 finished with value: 0.692063492063492 and parameters: {'n_estimators': 189, 'max_depth': 19, 'min_samples_split': 3, 'min_samples_leaf': 2}. Best is trial 0 with value: 0.7031746031746031.\n",
            "[I 2024-10-30 18:03:00,108] Trial 6 finished with value: 0.6317460317460317 and parameters: {'n_estimators': 200, 'max_depth': 19, 'min_samples_split': 10, 'min_samples_leaf': 5}. Best is trial 0 with value: 0.7031746031746031.\n",
            "[I 2024-10-30 18:03:00,198] Trial 7 finished with value: 0.7031746031746031 and parameters: {'n_estimators': 52, 'max_depth': 16, 'min_samples_split': 3, 'min_samples_leaf': 4}. Best is trial 0 with value: 0.7031746031746031.\n",
            "[I 2024-10-30 18:03:00,282] Trial 8 finished with value: 0.7031746031746031 and parameters: {'n_estimators': 51, 'max_depth': 17, 'min_samples_split': 7, 'min_samples_leaf': 2}. Best is trial 0 with value: 0.7031746031746031.\n",
            "[I 2024-10-30 18:03:00,605] Trial 9 finished with value: 0.7031746031746031 and parameters: {'n_estimators': 194, 'max_depth': 10, 'min_samples_split': 4, 'min_samples_leaf': 3}. Best is trial 0 with value: 0.7031746031746031.\n",
            "[I 2024-10-30 18:03:00,852] Trial 10 finished with value: 0.7031746031746031 and parameters: {'n_estimators': 146, 'max_depth': 8, 'min_samples_split': 10, 'min_samples_leaf': 4}. Best is trial 0 with value: 0.7031746031746031.\n",
            "[I 2024-10-30 18:03:01,148] Trial 11 finished with value: 0.7031746031746031 and parameters: {'n_estimators': 161, 'max_depth': 13, 'min_samples_split': 8, 'min_samples_leaf': 4}. Best is trial 0 with value: 0.7031746031746031.\n",
            "[I 2024-10-30 18:03:01,439] Trial 12 finished with value: 0.7142857142857143 and parameters: {'n_estimators': 163, 'max_depth': 11, 'min_samples_split': 8, 'min_samples_leaf': 3}. Best is trial 12 with value: 0.7142857142857143.\n",
            "[I 2024-10-30 18:03:01,743] Trial 13 finished with value: 0.692063492063492 and parameters: {'n_estimators': 159, 'max_depth': 14, 'min_samples_split': 9, 'min_samples_leaf': 1}. Best is trial 12 with value: 0.7142857142857143.\n",
            "[I 2024-10-30 18:03:01,972] Trial 14 finished with value: 0.7746031746031745 and parameters: {'n_estimators': 124, 'max_depth': 7, 'min_samples_split': 9, 'min_samples_leaf': 4}. Best is trial 14 with value: 0.7746031746031745.\n",
            "[I 2024-10-30 18:03:02,206] Trial 15 finished with value: 0.6428571428571428 and parameters: {'n_estimators': 116, 'max_depth': 5, 'min_samples_split': 8, 'min_samples_leaf': 3}. Best is trial 14 with value: 0.7746031746031745.\n",
            "[I 2024-10-30 18:03:02,442] Trial 16 finished with value: 0.7031746031746031 and parameters: {'n_estimators': 135, 'max_depth': 8, 'min_samples_split': 8, 'min_samples_leaf': 5}. Best is trial 14 with value: 0.7746031746031745.\n",
            "[I 2024-10-30 18:03:02,647] Trial 17 finished with value: 0.7031746031746031 and parameters: {'n_estimators': 96, 'max_depth': 9, 'min_samples_split': 9, 'min_samples_leaf': 1}. Best is trial 14 with value: 0.7746031746031745.\n",
            "[I 2024-10-30 18:03:02,920] Trial 18 finished with value: 0.5 and parameters: {'n_estimators': 163, 'max_depth': 2, 'min_samples_split': 9, 'min_samples_leaf': 3}. Best is trial 14 with value: 0.7746031746031745.\n",
            "[I 2024-10-30 18:03:03,178] Trial 19 finished with value: 0.7031746031746031 and parameters: {'n_estimators': 134, 'max_depth': 6, 'min_samples_split': 7, 'min_samples_leaf': 4}. Best is trial 14 with value: 0.7746031746031745.\n",
            "[I 2024-10-30 18:03:03,366] Trial 20 finished with value: 0.7031746031746031 and parameters: {'n_estimators': 98, 'max_depth': 12, 'min_samples_split': 5, 'min_samples_leaf': 3}. Best is trial 14 with value: 0.7746031746031745.\n",
            "[I 2024-10-30 18:03:03,691] Trial 21 finished with value: 0.7031746031746031 and parameters: {'n_estimators': 177, 'max_depth': 16, 'min_samples_split': 10, 'min_samples_leaf': 4}. Best is trial 14 with value: 0.7746031746031745.\n",
            "[I 2024-10-30 18:03:04,151] Trial 22 finished with value: 0.7031746031746031 and parameters: {'n_estimators': 175, 'max_depth': 20, 'min_samples_split': 9, 'min_samples_leaf': 4}. Best is trial 14 with value: 0.7746031746031745.\n",
            "[I 2024-10-30 18:03:04,566] Trial 23 finished with value: 0.6317460317460317 and parameters: {'n_estimators': 147, 'max_depth': 11, 'min_samples_split': 10, 'min_samples_leaf': 5}. Best is trial 14 with value: 0.7746031746031745.\n",
            "[I 2024-10-30 18:03:04,940] Trial 24 finished with value: 0.7746031746031745 and parameters: {'n_estimators': 126, 'max_depth': 7, 'min_samples_split': 8, 'min_samples_leaf': 4}. Best is trial 14 with value: 0.7746031746031745.\n",
            "[I 2024-10-30 18:03:05,299] Trial 25 finished with value: 0.6428571428571428 and parameters: {'n_estimators': 126, 'max_depth': 5, 'min_samples_split': 8, 'min_samples_leaf': 3}. Best is trial 14 with value: 0.7746031746031745.\n",
            "[I 2024-10-30 18:03:05,614] Trial 26 finished with value: 0.7857142857142857 and parameters: {'n_estimators': 101, 'max_depth': 7, 'min_samples_split': 7, 'min_samples_leaf': 4}. Best is trial 26 with value: 0.7857142857142857.\n",
            "[I 2024-10-30 18:03:05,930] Trial 27 finished with value: 0.7031746031746031 and parameters: {'n_estimators': 90, 'max_depth': 7, 'min_samples_split': 7, 'min_samples_leaf': 5}. Best is trial 26 with value: 0.7857142857142857.\n",
            "[I 2024-10-30 18:03:06,276] Trial 28 finished with value: 0.6428571428571428 and parameters: {'n_estimators': 107, 'max_depth': 4, 'min_samples_split': 2, 'min_samples_leaf': 4}. Best is trial 26 with value: 0.7857142857142857.\n",
            "[I 2024-10-30 18:03:06,540] Trial 29 finished with value: 0.7031746031746031 and parameters: {'n_estimators': 77, 'max_depth': 9, 'min_samples_split': 5, 'min_samples_leaf': 4}. Best is trial 26 with value: 0.7857142857142857.\n",
            "[I 2024-10-30 18:03:06,915] Trial 30 finished with value: 0.6428571428571428 and parameters: {'n_estimators': 121, 'max_depth': 7, 'min_samples_split': 6, 'min_samples_leaf': 5}. Best is trial 26 with value: 0.7857142857142857.\n",
            "[I 2024-10-30 18:03:07,322] Trial 31 finished with value: 0.7746031746031745 and parameters: {'n_estimators': 135, 'max_depth': 9, 'min_samples_split': 8, 'min_samples_leaf': 3}. Best is trial 26 with value: 0.7857142857142857.\n",
            "[I 2024-10-30 18:03:07,570] Trial 32 finished with value: 0.7746031746031745 and parameters: {'n_estimators': 130, 'max_depth': 9, 'min_samples_split': 7, 'min_samples_leaf': 4}. Best is trial 26 with value: 0.7857142857142857.\n",
            "[I 2024-10-30 18:03:07,769] Trial 33 finished with value: 0.6317460317460317 and parameters: {'n_estimators': 107, 'max_depth': 7, 'min_samples_split': 9, 'min_samples_leaf': 3}. Best is trial 26 with value: 0.7857142857142857.\n",
            "[I 2024-10-30 18:03:08,048] Trial 34 finished with value: 0.7142857142857143 and parameters: {'n_estimators': 145, 'max_depth': 5, 'min_samples_split': 6, 'min_samples_leaf': 4}. Best is trial 26 with value: 0.7857142857142857.\n",
            "[I 2024-10-30 18:03:08,277] Trial 35 finished with value: 0.7746031746031745 and parameters: {'n_estimators': 114, 'max_depth': 8, 'min_samples_split': 8, 'min_samples_leaf': 4}. Best is trial 26 with value: 0.7857142857142857.\n",
            "[I 2024-10-30 18:03:08,448] Trial 36 finished with value: 0.7031746031746031 and parameters: {'n_estimators': 85, 'max_depth': 6, 'min_samples_split': 7, 'min_samples_leaf': 2}. Best is trial 26 with value: 0.7857142857142857.\n",
            "[I 2024-10-30 18:03:08,713] Trial 37 finished with value: 0.6428571428571428 and parameters: {'n_estimators': 138, 'max_depth': 3, 'min_samples_split': 6, 'min_samples_leaf': 3}. Best is trial 26 with value: 0.7857142857142857.\n",
            "[I 2024-10-30 18:03:08,950] Trial 38 finished with value: 0.6428571428571428 and parameters: {'n_estimators': 122, 'max_depth': 10, 'min_samples_split': 9, 'min_samples_leaf': 5}. Best is trial 26 with value: 0.7857142857142857.\n",
            "[I 2024-10-30 18:03:09,085] Trial 39 finished with value: 0.6317460317460317 and parameters: {'n_estimators': 65, 'max_depth': 4, 'min_samples_split': 8, 'min_samples_leaf': 2}. Best is trial 26 with value: 0.7857142857142857.\n",
            "[I 2024-10-30 18:03:09,286] Trial 40 finished with value: 0.7746031746031745 and parameters: {'n_estimators': 108, 'max_depth': 10, 'min_samples_split': 7, 'min_samples_leaf': 4}. Best is trial 26 with value: 0.7857142857142857.\n",
            "[I 2024-10-30 18:03:09,518] Trial 41 finished with value: 0.7746031746031745 and parameters: {'n_estimators': 130, 'max_depth': 9, 'min_samples_split': 7, 'min_samples_leaf': 4}. Best is trial 26 with value: 0.7857142857142857.\n",
            "[I 2024-10-30 18:03:09,715] Trial 42 finished with value: 0.7746031746031745 and parameters: {'n_estimators': 101, 'max_depth': 8, 'min_samples_split': 7, 'min_samples_leaf': 4}. Best is trial 26 with value: 0.7857142857142857.\n",
            "[I 2024-10-30 18:03:09,973] Trial 43 finished with value: 0.7031746031746031 and parameters: {'n_estimators': 143, 'max_depth': 7, 'min_samples_split': 8, 'min_samples_leaf': 3}. Best is trial 26 with value: 0.7857142857142857.\n",
            "[I 2024-10-30 18:03:10,245] Trial 44 finished with value: 0.7031746031746031 and parameters: {'n_estimators': 152, 'max_depth': 9, 'min_samples_split': 6, 'min_samples_leaf': 4}. Best is trial 26 with value: 0.7857142857142857.\n",
            "[I 2024-10-30 18:03:10,461] Trial 45 finished with value: 0.6428571428571428 and parameters: {'n_estimators': 119, 'max_depth': 12, 'min_samples_split': 9, 'min_samples_leaf': 5}. Best is trial 26 with value: 0.7857142857142857.\n",
            "[I 2024-10-30 18:03:10,697] Trial 46 finished with value: 0.7031746031746031 and parameters: {'n_estimators': 132, 'max_depth': 6, 'min_samples_split': 8, 'min_samples_leaf': 4}. Best is trial 26 with value: 0.7857142857142857.\n",
            "[I 2024-10-30 18:03:10,926] Trial 47 finished with value: 0.7746031746031745 and parameters: {'n_estimators': 125, 'max_depth': 10, 'min_samples_split': 7, 'min_samples_leaf': 3}. Best is trial 26 with value: 0.7857142857142857.\n",
            "[I 2024-10-30 18:03:11,213] Trial 48 finished with value: 0.7031746031746031 and parameters: {'n_estimators': 154, 'max_depth': 8, 'min_samples_split': 5, 'min_samples_leaf': 3}. Best is trial 26 with value: 0.7857142857142857.\n",
            "[I 2024-10-30 18:03:11,424] Trial 49 finished with value: 0.6428571428571428 and parameters: {'n_estimators': 113, 'max_depth': 12, 'min_samples_split': 9, 'min_samples_leaf': 5}. Best is trial 26 with value: 0.7857142857142857.\n"
          ]
        },
        {
          "output_type": "stream",
          "name": "stdout",
          "text": [
            "Best ROC-AUC for RandomForestClassifier:  0.7857142857142857\n",
            "Best hyperparameters for RandomForestClassifier:  {'n_estimators': 101, 'max_depth': 7, 'min_samples_split': 7, 'min_samples_leaf': 4}\n"
          ]
        }
      ]
    },
    {
      "cell_type": "code",
      "source": [
        "# Обучение Random Forest\n",
        "rf_params = {'n_estimators': 121, 'max_depth': 15, 'min_samples_split': 8, 'min_samples_leaf': 3}\n",
        "rf_model = RandomForestClassifier(**rf_params)\n",
        "rf_model.fit(X_train, y_train)\n",
        "\n",
        "# Прогноз на тестовых данных\n",
        "rf_pred = rf_model.predict(X_test)\n",
        "\n",
        "# Расчет метрик для Random Forest\n",
        "rf_roc_auc = roc_auc_score(y_test, rf_pred)\n",
        "rf_accuracy = accuracy_score(y_test, rf_pred)\n",
        "rf_precision = precision_score(y_test, rf_pred)\n",
        "rf_recall = recall_score(y_test, rf_pred)\n",
        "\n",
        "print(\"Random Forest метрики:\")\n",
        "print(f\"ROC AUC: {rf_roc_auc:.2f}\")\n",
        "print(f\"Accuracy: {rf_accuracy:.2f}\")\n",
        "print(f\"Precision: {rf_precision:.2f}\")\n",
        "print(f\"Recall: {rf_recall:.2f}\")"
      ],
      "metadata": {
        "colab": {
          "base_uri": "https://localhost:8080/"
        },
        "id": "vJhgYJMPghrr",
        "outputId": "0e4614c3-f62d-4ad1-9152-eda9d5ddd0ea"
      },
      "id": "vJhgYJMPghrr",
      "execution_count": 64,
      "outputs": [
        {
          "output_type": "stream",
          "name": "stdout",
          "text": [
            "Random Forest метрики:\n",
            "ROC AUC: 0.79\n",
            "Accuracy: 0.94\n",
            "Precision: 0.94\n",
            "Recall: 1.00\n"
          ]
        }
      ]
    },
    {
      "cell_type": "code",
      "source": [
        "# Обучение Gradient Boosting\n",
        "gb_params = {'n_estimators': 112, 'learning_rate': 0.12048539180625001, 'max_depth': 7, 'min_samples_split': 3, 'min_samples_leaf': 5, 'subsample': 0.8020632465655403, 'max_features': 'log2'}\n",
        "gb_model = GradientBoostingClassifier(**gb_params)\n",
        "gb_model.fit(X_train_scaled, y_train)\n",
        "\n",
        "# Прогноз на тестовых данных\n",
        "gb_pred = gb_model.predict(X_test_scaled)\n",
        "\n",
        "# Расчет метрик для Gradient Boosting\n",
        "gb_roc_auc = roc_auc_score(y_test, gb_pred)\n",
        "gb_accuracy = accuracy_score(y_test, gb_pred)\n",
        "gb_precision = precision_score(y_test, gb_pred)\n",
        "gb_recall = recall_score(y_test, gb_pred)\n",
        "\n",
        "print(\"\\nGradient Boosting метрики:\")\n",
        "print(f\"ROC AUC: {gb_roc_auc:.2f}\")\n",
        "print(f\"Accuracy: {gb_accuracy:.2f}\")\n",
        "print(f\"Precision: {gb_precision:.2f}\")\n",
        "print(f\"Recall: {gb_recall:.2f}\")"
      ],
      "metadata": {
        "colab": {
          "base_uri": "https://localhost:8080/"
        },
        "id": "Wl09RCJZ_SRb",
        "outputId": "8c1e9091-65d2-42b7-db4c-1de2235cbfff"
      },
      "id": "Wl09RCJZ_SRb",
      "execution_count": null,
      "outputs": [
        {
          "output_type": "stream",
          "name": "stdout",
          "text": [
            "\n",
            "Gradient Boosting метрики:\n",
            "ROC AUC: 0.81\n",
            "Accuracy: 0.88\n",
            "Precision: 0.95\n",
            "Recall: 0.91\n"
          ]
        }
      ]
    },
    {
      "cell_type": "code",
      "execution_count": null,
      "id": "ae1e040c-ddd0-4952-9dcb-58c1226da40a",
      "metadata": {
        "tags": [],
        "colab": {
          "base_uri": "https://localhost:8080/"
        },
        "id": "ae1e040c-ddd0-4952-9dcb-58c1226da40a",
        "outputId": "d461e90d-e99a-43eb-e4b3-dc2e697b9933"
      },
      "outputs": [
        {
          "output_type": "stream",
          "name": "stdout",
          "text": [
            "\n",
            "MLP (Neural Network) метрики:\n",
            "ROC AUC: 0.83\n",
            "Accuracy: 0.92\n",
            "Precision: 0.96\n",
            "Recall: 0.96\n"
          ]
        }
      ],
      "source": [
        "# Обучение MLP (Multi-Layer Perceptron) нейронной сети\n",
        "mlp_params = {'hidden_layer_sizes': 366, 'max_iter': 626}\n",
        "mlp_model = MLPClassifier(**mlp_params)\n",
        "mlp_model.fit(X_train_scaled, y_train)\n",
        "\n",
        "# Прогноз на тестовых данных\n",
        "mlp_pred = mlp_model.predict(X_test_scaled)\n",
        "\n",
        "# Расчет метрик для MLP нейронной сети\n",
        "mlp_roc_auc = roc_auc_score(y_test, mlp_pred)\n",
        "mlp_accuracy = accuracy_score(y_test, mlp_pred)\n",
        "mlp_precision = precision_score(y_test, mlp_pred)\n",
        "mlp_recall = recall_score(y_test, mlp_pred)\n",
        "\n",
        "print(\"\\nMLP (Neural Network) метрики:\")\n",
        "print(f\"ROC AUC: {mlp_roc_auc:.2f}\")\n",
        "print(f\"Accuracy: {mlp_accuracy:.2f}\")\n",
        "print(f\"Precision: {mlp_precision:.2f}\")\n",
        "print(f\"Recall: {mlp_recall:.2f}\")"
      ]
    },
    {
      "cell_type": "markdown",
      "id": "d2d6eb00-77fd-40dc-a3c5-35c1fe0200c0",
      "metadata": {
        "id": "d2d6eb00-77fd-40dc-a3c5-35c1fe0200c0"
      },
      "source": [
        "## Экспериментируйте\n",
        "Для получения лучшего качества придется поэкспериментировать. Подсказка: попробуйте оптимизировать гиперпараметры модели"
      ]
    }
  ],
  "metadata": {
    "kernelspec": {
      "display_name": "Python 3 (ipykernel)",
      "language": "python",
      "name": "python3"
    },
    "language_info": {
      "codemirror_mode": {
        "name": "ipython",
        "version": 3
      },
      "file_extension": ".py",
      "mimetype": "text/x-python",
      "name": "python",
      "nbconvert_exporter": "python",
      "pygments_lexer": "ipython3",
      "version": "3.11.5"
    },
    "colab": {
      "provenance": []
    }
  },
  "nbformat": 4,
  "nbformat_minor": 5
}